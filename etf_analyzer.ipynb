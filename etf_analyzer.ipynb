{
 "cells": [
  {
   "cell_type": "markdown",
   "metadata": {},
   "source": [
    "# Create a Web Application for an ETF Analyzer\n",
    "\n",
    "In this Challenge assignment, you’ll build a financial database and web application by using SQL, Python, and the Voilà library to analyze the performance of a hypothetical fintech ETF.\n",
    "\n",
    "Instructions: \n",
    "\n",
    "Use this notebook to complete your analysis of a fintech ETF that consists of four stocks: GOST, GS, PYPL, and SQ. Each stock has its own table in the `etf.db` database, which the `Starter_Code` folder also contains.\n",
    "\n",
    "Analyze the daily returns of the ETF stocks both individually and as a whole. Then deploy the visualizations to a web application by using the Voilà library.\n",
    "\n",
    "The detailed instructions are divided into the following parts:\n",
    "\n",
    "* Analyze a single asset in the ETF\n",
    "\n",
    "* Optimize data access with Advanced SQL queries\n",
    "\n",
    "* Analyze the ETF portfolio\n",
    "\n",
    "* Deploy the notebook as a web application\n",
    "\n",
    "#### Analyze a Single Asset in the ETF\n",
    "\n",
    "For this part of the assignment, you’ll use SQL queries with Python, Pandas, and hvPlot to analyze the performance of a single asset from the ETF.\n",
    "\n",
    "Complete the following steps:\n",
    "\n",
    "1. Write a SQL `SELECT` statement by using an f-string that reads all the PYPL data from the database. Using the SQL `SELECT` statement, execute a query that reads the PYPL data from the database into a Pandas DataFrame.\n",
    "\n",
    "2. Use the `head` and `tail` functions to review the first five and the last five rows of the DataFrame. Make a note of the beginning and end dates that are available from this dataset. You’ll use this information to complete your analysis.\n",
    "\n",
    "3. Using hvPlot, create an interactive visualization for the PYPL daily returns. Reflect the “time” column of the DataFrame on the x-axis. Make sure that you professionally style and format your visualization to enhance its readability.\n",
    "\n",
    "4. Using hvPlot, create an interactive visualization for the PYPL cumulative returns. Reflect the “time” column of the DataFrame on the x-axis. Make sure that you professionally style and format your visualization to enhance its readability.\n",
    "\n",
    "#### Optimize Data Access with Advanced SQL Queries\n",
    "\n",
    "For this part of the assignment, you’ll continue to analyze a single asset (PYPL) from the ETF. You’ll use advanced SQL queries to optimize the efficiency of accessing data from the database.\n",
    "\n",
    "Complete the following steps:\n",
    "\n",
    "1. Access the closing prices for PYPL that are greater than 200 by completing the following steps:\n",
    "\n",
    "    - Write a SQL `SELECT` statement to select the dates where the PYPL closing price was higher than 200.0.\n",
    "\n",
    "    - Using the SQL statement, read the data from the database into a Pandas DataFrame, and then review the resulting DataFrame.\n",
    "\n",
    "    - Select the “time” and “close” columns for those dates where the closing price was higher than 200.0.\n",
    "\n",
    "2. Find the top 10 daily returns for PYPL by completing the following steps:\n",
    "\n",
    "    -  Write a SQL statement to find the top 10 PYPL daily returns. Make sure to do the following:\n",
    "\n",
    "        * Use `SELECT` to select only the “time” and “daily_returns” columns.\n",
    "\n",
    "        * Use `ORDER` to sort the results in descending order by the “daily_returns” column.\n",
    "\n",
    "        * Use `LIMIT` to limit the results to the top 10 daily return values.\n",
    "\n",
    "    - Using the SQL statement, read the data from the database into a Pandas DataFrame, and then review the resulting DataFrame.\n",
    "\n",
    "#### Analyze the ETF Portfolio\n",
    "\n",
    "For this part of the assignment, you’ll build the entire ETF portfolio and then evaluate its performance. To do so, you’ll build the ETF portfolio by using SQL joins to combine all the data for each asset.\n",
    "\n",
    "Complete the following steps:\n",
    "\n",
    "1. Write a SQL query to join each table in the portfolio into a single DataFrame. To do so, complete the following steps:\n",
    "\n",
    "    - Use a SQL inner join to join each table on the “time” column. Access the “time” column in the `GDOT` table via the `GDOT.time` syntax. Access the “time” columns from the other tables via similar syntax.\n",
    "\n",
    "    - Using the SQL query, read the data from the database into a Pandas DataFrame. Review the resulting DataFrame.\n",
    "\n",
    "2. Create a DataFrame that averages the “daily_returns” columns for all four assets. Review the resulting DataFrame.\n",
    "\n",
    "    > **Hint** Assuming that this ETF contains equally weighted returns, you can average the returns for each asset to get the average returns of the portfolio. You can then use the average returns of the portfolio to calculate the annualized returns and the cumulative returns. For the calculation to get the average daily returns for the portfolio, use the following code:\n",
    "    >\n",
    "    > ```python\n",
    "    > etf_portfolio_returns = etf_portfolio['daily_returns'].mean(axis=1)\n",
    "    > ```\n",
    "    >\n",
    "    > You can use the average daily returns of the portfolio the same way that you used the daily returns of a single asset.\n",
    "\n",
    "3. Use the average daily returns in the `etf_portfolio_returns` DataFrame to calculate the annualized returns for the portfolio. Display the annualized return value of the ETF portfolio.\n",
    "\n",
    "> **Hint**  To calculate the annualized returns, multiply the mean of the `etf_portfolio_returns` values by 252.\n",
    ">\n",
    "> To convert the decimal values to percentages, multiply the results by 100.\n",
    "\n",
    "4. Use the average daily returns in the `etf_portfolio_returns` DataFrame to calculate the cumulative returns of the ETF portfolio.\n",
    "\n",
    "5. Using hvPlot, create an interactive line plot that visualizes the cumulative return values of the ETF portfolio. Reflect the “time” column of the DataFrame on the x-axis. Make sure that you professionally style and format your visualization to enhance its readability.\n",
    "\n",
    "#### Deploy the Notebook as a Web Application\n",
    "\n",
    "For this part of the assignment, complete the following steps:\n",
    "\n",
    "1. Use the Voilà library to deploy your notebook as a web application. You can deploy the web application locally on your computer.\n",
    "\n",
    "2. Take a screen recording or screenshots to show how the web application appears when using Voilà. Include the recording or screenshots in the `README.md` file for your GitHub repository.\n"
   ]
  },
  {
   "cell_type": "markdown",
   "metadata": {},
   "source": [
    "## Review the following code which imports the required libraries, initiates your SQLite database, popluates the database with records from the `etf.db` seed file that was included in your Starter_Code folder, creates the database engine, and confirms that data tables that it now contains."
   ]
  },
  {
   "cell_type": "code",
   "execution_count": 18,
   "metadata": {},
   "outputs": [
    {
     "data": {
      "text/plain": [
       "['GDOT', 'GS', 'PYPL', 'SQ']"
      ]
     },
     "execution_count": 18,
     "metadata": {},
     "output_type": "execute_result"
    }
   ],
   "source": [
    "# Importing the required libraries and dependencies\n",
    "import numpy as np\n",
    "import pandas as pd\n",
    "import hvplot.pandas\n",
    "\n",
    "# filter for excessive warnings\n",
    "import warnings\n",
    "warnings.filterwarnings(\"ignore\")\n",
    "\n",
    "# Create a temporary SQLite database and populate the database with content from the etf.db seed file\n",
    "database_connection_string = 'sqlite:///etf.db'\n",
    "\n",
    "# Create an engine to interact with the SQLite database\n",
    "engine = sqlalchemy.create_engine(database_connection_string)\n",
    "\n",
    "# Confirm that table names contained in the SQLite database.\n",
    "engine.table_names()"
   ]
  },
  {
   "cell_type": "markdown",
   "metadata": {},
   "source": [
    "## Analyze a single asset in the FinTech ETF\n",
    "\n",
    "For this part of the assignment, you’ll use SQL queries with Python, Pandas, and hvPlot to analyze the performance of a single asset from the ETF.\n",
    "\n",
    "Complete the following steps:\n",
    "\n",
    "1. Write a SQL `SELECT` statement by using an f-string that reads all the PYPL data from the database. Using the SQL `SELECT` statement, execute a query that reads the PYPL data from the database into a Pandas DataFrame.\n",
    "\n",
    "2. Use the `head` and `tail` functions to review the first five and the last five rows of the DataFrame. Make a note of the beginning and end dates that are available from this dataset. You’ll use this information to complete your analysis.\n",
    "\n",
    "3. Using hvPlot, create an interactive visualization for the PYPL daily returns. Reflect the “time” column of the DataFrame on the x-axis. Make sure that you professionally style and format your visualization to enhance its readability.\n",
    "\n",
    "4. Using hvPlot, create an interactive visualization for the PYPL cumulative returns. Reflect the “time” column of the DataFrame on the x-axis. Make sure that you professionally style and format your visualization to enhance its readability.\n",
    "\n"
   ]
  },
  {
   "cell_type": "markdown",
   "metadata": {},
   "source": [
    "### Step 1: Write a SQL `SELECT` statement by using an f-string that reads all the PYPL data from the database. Using the SQL `SELECT` statement, execute a query that reads the PYPL data from the database into a Pandas DataFrame."
   ]
  },
  {
   "cell_type": "code",
   "execution_count": 25,
   "metadata": {},
   "outputs": [],
   "source": [
    "# Write a SQL query to SELECT all of the data from the PYPL table\n",
    "query = f\"\"\"\n",
    "SELECT * FROM PYPL\n",
    "\"\"\"\n",
    "\n",
    "# Use the query to read the PYPL data into a Pandas DataFrame\n",
    "pypl_dataframe = pd.read_sql(query, con=engine)\n",
    "\n",
    "# converting time column to datetime format for plot viewability\n",
    "pypl_dataframe = pypl_dataframe.set_index(\"time\")\n",
    "pypl_dataframe.index = pd.to_datetime(pypl_dataframe.index)"
   ]
  },
  {
   "cell_type": "markdown",
   "metadata": {},
   "source": [
    "### Step 2: Use the `head` and `tail` functions to review the first five and the last five rows of the DataFrame. Make a note of the beginning and end dates that are available from this dataset. You’ll use this information to complete your analysis."
   ]
  },
  {
   "cell_type": "code",
   "execution_count": 26,
   "metadata": {},
   "outputs": [
    {
     "data": {
      "text/html": [
       "<div>\n",
       "<style scoped>\n",
       "    .dataframe tbody tr th:only-of-type {\n",
       "        vertical-align: middle;\n",
       "    }\n",
       "\n",
       "    .dataframe tbody tr th {\n",
       "        vertical-align: top;\n",
       "    }\n",
       "\n",
       "    .dataframe thead th {\n",
       "        text-align: right;\n",
       "    }\n",
       "</style>\n",
       "<table border=\"1\" class=\"dataframe\">\n",
       "  <thead>\n",
       "    <tr style=\"text-align: right;\">\n",
       "      <th></th>\n",
       "      <th>open</th>\n",
       "      <th>high</th>\n",
       "      <th>low</th>\n",
       "      <th>close</th>\n",
       "      <th>volume</th>\n",
       "      <th>daily_returns</th>\n",
       "    </tr>\n",
       "    <tr>\n",
       "      <th>time</th>\n",
       "      <th></th>\n",
       "      <th></th>\n",
       "      <th></th>\n",
       "      <th></th>\n",
       "      <th></th>\n",
       "      <th></th>\n",
       "    </tr>\n",
       "  </thead>\n",
       "  <tbody>\n",
       "    <tr>\n",
       "      <th>2016-12-16</th>\n",
       "      <td>39.90</td>\n",
       "      <td>39.90</td>\n",
       "      <td>39.12</td>\n",
       "      <td>39.32</td>\n",
       "      <td>7298861</td>\n",
       "      <td>-0.005564</td>\n",
       "    </tr>\n",
       "    <tr>\n",
       "      <th>2016-12-19</th>\n",
       "      <td>39.40</td>\n",
       "      <td>39.80</td>\n",
       "      <td>39.11</td>\n",
       "      <td>39.45</td>\n",
       "      <td>3436478</td>\n",
       "      <td>0.003306</td>\n",
       "    </tr>\n",
       "    <tr>\n",
       "      <th>2016-12-20</th>\n",
       "      <td>39.61</td>\n",
       "      <td>39.74</td>\n",
       "      <td>39.26</td>\n",
       "      <td>39.74</td>\n",
       "      <td>2940991</td>\n",
       "      <td>0.007351</td>\n",
       "    </tr>\n",
       "    <tr>\n",
       "      <th>2016-12-21</th>\n",
       "      <td>39.84</td>\n",
       "      <td>40.74</td>\n",
       "      <td>39.82</td>\n",
       "      <td>40.09</td>\n",
       "      <td>5826704</td>\n",
       "      <td>0.008807</td>\n",
       "    </tr>\n",
       "    <tr>\n",
       "      <th>2016-12-22</th>\n",
       "      <td>40.04</td>\n",
       "      <td>40.09</td>\n",
       "      <td>39.54</td>\n",
       "      <td>39.68</td>\n",
       "      <td>4338385</td>\n",
       "      <td>-0.010227</td>\n",
       "    </tr>\n",
       "  </tbody>\n",
       "</table>\n",
       "</div>"
      ],
      "text/plain": [
       "             open   high    low  close   volume  daily_returns\n",
       "time                                                          \n",
       "2016-12-16  39.90  39.90  39.12  39.32  7298861      -0.005564\n",
       "2016-12-19  39.40  39.80  39.11  39.45  3436478       0.003306\n",
       "2016-12-20  39.61  39.74  39.26  39.74  2940991       0.007351\n",
       "2016-12-21  39.84  40.74  39.82  40.09  5826704       0.008807\n",
       "2016-12-22  40.04  40.09  39.54  39.68  4338385      -0.010227"
      ]
     },
     "execution_count": 26,
     "metadata": {},
     "output_type": "execute_result"
    }
   ],
   "source": [
    "# View the first 5 rows of the DataFrame.\n",
    "pypl_dataframe.head()\n"
   ]
  },
  {
   "cell_type": "code",
   "execution_count": 27,
   "metadata": {},
   "outputs": [
    {
     "data": {
      "text/html": [
       "<div>\n",
       "<style scoped>\n",
       "    .dataframe tbody tr th:only-of-type {\n",
       "        vertical-align: middle;\n",
       "    }\n",
       "\n",
       "    .dataframe tbody tr th {\n",
       "        vertical-align: top;\n",
       "    }\n",
       "\n",
       "    .dataframe thead th {\n",
       "        text-align: right;\n",
       "    }\n",
       "</style>\n",
       "<table border=\"1\" class=\"dataframe\">\n",
       "  <thead>\n",
       "    <tr style=\"text-align: right;\">\n",
       "      <th></th>\n",
       "      <th>open</th>\n",
       "      <th>high</th>\n",
       "      <th>low</th>\n",
       "      <th>close</th>\n",
       "      <th>volume</th>\n",
       "      <th>daily_returns</th>\n",
       "    </tr>\n",
       "    <tr>\n",
       "      <th>time</th>\n",
       "      <th></th>\n",
       "      <th></th>\n",
       "      <th></th>\n",
       "      <th></th>\n",
       "      <th></th>\n",
       "      <th></th>\n",
       "    </tr>\n",
       "  </thead>\n",
       "  <tbody>\n",
       "    <tr>\n",
       "      <th>2020-11-30</th>\n",
       "      <td>212.51</td>\n",
       "      <td>215.83</td>\n",
       "      <td>207.0900</td>\n",
       "      <td>214.200</td>\n",
       "      <td>8992681</td>\n",
       "      <td>0.013629</td>\n",
       "    </tr>\n",
       "    <tr>\n",
       "      <th>2020-12-01</th>\n",
       "      <td>217.15</td>\n",
       "      <td>220.57</td>\n",
       "      <td>214.3401</td>\n",
       "      <td>216.520</td>\n",
       "      <td>9148174</td>\n",
       "      <td>0.010831</td>\n",
       "    </tr>\n",
       "    <tr>\n",
       "      <th>2020-12-02</th>\n",
       "      <td>215.60</td>\n",
       "      <td>215.75</td>\n",
       "      <td>210.5000</td>\n",
       "      <td>212.660</td>\n",
       "      <td>6414746</td>\n",
       "      <td>-0.017827</td>\n",
       "    </tr>\n",
       "    <tr>\n",
       "      <th>2020-12-03</th>\n",
       "      <td>213.33</td>\n",
       "      <td>216.93</td>\n",
       "      <td>213.1100</td>\n",
       "      <td>214.680</td>\n",
       "      <td>6463339</td>\n",
       "      <td>0.009499</td>\n",
       "    </tr>\n",
       "    <tr>\n",
       "      <th>2020-12-04</th>\n",
       "      <td>214.88</td>\n",
       "      <td>217.28</td>\n",
       "      <td>213.0100</td>\n",
       "      <td>217.235</td>\n",
       "      <td>2118319</td>\n",
       "      <td>0.011901</td>\n",
       "    </tr>\n",
       "  </tbody>\n",
       "</table>\n",
       "</div>"
      ],
      "text/plain": [
       "              open    high       low    close   volume  daily_returns\n",
       "time                                                                 \n",
       "2020-11-30  212.51  215.83  207.0900  214.200  8992681       0.013629\n",
       "2020-12-01  217.15  220.57  214.3401  216.520  9148174       0.010831\n",
       "2020-12-02  215.60  215.75  210.5000  212.660  6414746      -0.017827\n",
       "2020-12-03  213.33  216.93  213.1100  214.680  6463339       0.009499\n",
       "2020-12-04  214.88  217.28  213.0100  217.235  2118319       0.011901"
      ]
     },
     "execution_count": 27,
     "metadata": {},
     "output_type": "execute_result"
    }
   ],
   "source": [
    "# View the last 5 rows of the DataFrame.\n",
    "pypl_dataframe.tail()\n"
   ]
  },
  {
   "cell_type": "markdown",
   "metadata": {},
   "source": [
    "### Step 3: Using hvPlot, create an interactive visualization for the PYPL daily returns. Reflect the “time” column of the DataFrame on the x-axis. Make sure that you professionally style and format your visualization to enhance its readability."
   ]
  },
  {
   "cell_type": "code",
   "execution_count": 55,
   "metadata": {},
   "outputs": [
    {
     "data": {},
     "metadata": {},
     "output_type": "display_data"
    },
    {
     "data": {
      "application/vnd.holoviews_exec.v0+json": "",
      "text/html": [
       "<div id='3746'>\n",
       "  <div class=\"bk-root\" id=\"4e530988-3300-4ee3-bf71-7d681e739f6b\" data-root-id=\"3746\"></div>\n",
       "</div>\n",
       "<script type=\"application/javascript\">(function(root) {\n",
       "  function embed_document(root) {\n",
       "    var docs_json = {\"4e3c2c6e-f3c1-409b-875b-511ad2af797a\":{\"defs\":[{\"extends\":null,\"module\":null,\"name\":\"ReactiveHTML1\",\"overrides\":[],\"properties\":[]},{\"extends\":null,\"module\":null,\"name\":\"FlexBox1\",\"overrides\":[],\"properties\":[{\"default\":\"flex-start\",\"kind\":null,\"name\":\"align_content\"},{\"default\":\"flex-start\",\"kind\":null,\"name\":\"align_items\"},{\"default\":\"row\",\"kind\":null,\"name\":\"flex_direction\"},{\"default\":\"wrap\",\"kind\":null,\"name\":\"flex_wrap\"},{\"default\":\"flex-start\",\"kind\":null,\"name\":\"justify_content\"}]},{\"extends\":null,\"module\":null,\"name\":\"GridStack1\",\"overrides\":[],\"properties\":[{\"default\":\"warn\",\"kind\":null,\"name\":\"mode\"},{\"default\":null,\"kind\":null,\"name\":\"ncols\"},{\"default\":null,\"kind\":null,\"name\":\"nrows\"},{\"default\":true,\"kind\":null,\"name\":\"allow_resize\"},{\"default\":true,\"kind\":null,\"name\":\"allow_drag\"},{\"default\":[],\"kind\":null,\"name\":\"state\"}]},{\"extends\":null,\"module\":null,\"name\":\"click1\",\"overrides\":[],\"properties\":[{\"default\":\"\",\"kind\":null,\"name\":\"terminal_output\"},{\"default\":\"\",\"kind\":null,\"name\":\"debug_name\"},{\"default\":0,\"kind\":null,\"name\":\"clears\"}]},{\"extends\":null,\"module\":null,\"name\":\"NotificationAreaBase1\",\"overrides\":[],\"properties\":[{\"default\":\"bottom-right\",\"kind\":null,\"name\":\"position\"},{\"default\":0,\"kind\":null,\"name\":\"_clear\"}]},{\"extends\":null,\"module\":null,\"name\":\"NotificationArea1\",\"overrides\":[],\"properties\":[{\"default\":[],\"kind\":null,\"name\":\"notifications\"},{\"default\":\"bottom-right\",\"kind\":null,\"name\":\"position\"},{\"default\":0,\"kind\":null,\"name\":\"_clear\"},{\"default\":[{\"background\":\"#ffc107\",\"icon\":{\"className\":\"fas fa-exclamation-triangle\",\"color\":\"white\",\"tagName\":\"i\"},\"type\":\"warning\"},{\"background\":\"#007bff\",\"icon\":{\"className\":\"fas fa-info-circle\",\"color\":\"white\",\"tagName\":\"i\"},\"type\":\"info\"}],\"kind\":null,\"name\":\"types\"}]},{\"extends\":null,\"module\":null,\"name\":\"Notification\",\"overrides\":[],\"properties\":[{\"default\":null,\"kind\":null,\"name\":\"background\"},{\"default\":3000,\"kind\":null,\"name\":\"duration\"},{\"default\":null,\"kind\":null,\"name\":\"icon\"},{\"default\":\"\",\"kind\":null,\"name\":\"message\"},{\"default\":null,\"kind\":null,\"name\":\"notification_type\"},{\"default\":false,\"kind\":null,\"name\":\"_destroyed\"}]},{\"extends\":null,\"module\":null,\"name\":\"TemplateActions1\",\"overrides\":[],\"properties\":[{\"default\":0,\"kind\":null,\"name\":\"open_modal\"},{\"default\":0,\"kind\":null,\"name\":\"close_modal\"}]},{\"extends\":null,\"module\":null,\"name\":\"MaterialTemplateActions1\",\"overrides\":[],\"properties\":[{\"default\":0,\"kind\":null,\"name\":\"open_modal\"},{\"default\":0,\"kind\":null,\"name\":\"close_modal\"}]}],\"roots\":{\"references\":[{\"attributes\":{\"end\":0.1715458661010297,\"reset_end\":0.1715458661010297,\"reset_start\":-0.19523816539422575,\"start\":-0.19523816539422575,\"tags\":[[[\"daily_returns\",\"daily_returns\",null]]]},\"id\":\"3749\",\"type\":\"Range1d\"},{\"attributes\":{\"mantissas\":[1,2,5],\"max_interval\":500.0,\"num_minor_ticks\":0},\"id\":\"3806\",\"type\":\"AdaptiveTicker\"},{\"attributes\":{},\"id\":\"3795\",\"type\":\"AllLabels\"},{\"attributes\":{\"line_color\":\"#30a2da\",\"line_width\":2,\"x\":{\"field\":\"time\"},\"y\":{\"field\":\"daily_returns\"}},\"id\":\"3789\",\"type\":\"Line\"},{\"attributes\":{},\"id\":\"3794\",\"type\":\"BasicTickFormatter\"},{\"attributes\":{\"months\":[0,4,8]},\"id\":\"3815\",\"type\":\"MonthsTicker\"},{\"attributes\":{\"below\":[{\"id\":\"3760\"}],\"center\":[{\"id\":\"3763\"},{\"id\":\"3767\"}],\"frame_height\":500,\"frame_width\":1000,\"height\":null,\"left\":[{\"id\":\"3764\"}],\"margin\":[5,5,5,5],\"min_border_bottom\":10,\"min_border_left\":10,\"min_border_right\":10,\"min_border_top\":10,\"renderers\":[{\"id\":\"3787\"}],\"sizing_mode\":\"fixed\",\"title\":{\"id\":\"3752\"},\"toolbar\":{\"id\":\"3774\"},\"width\":null,\"x_range\":{\"id\":\"3748\"},\"x_scale\":{\"id\":\"3756\"},\"y_range\":{\"id\":\"3749\"},\"y_scale\":{\"id\":\"3758\"}},\"id\":\"3751\",\"subtype\":\"Figure\",\"type\":\"Plot\"},{\"attributes\":{\"line_alpha\":0.1,\"line_color\":\"#30a2da\",\"line_width\":2,\"x\":{\"field\":\"time\"},\"y\":{\"field\":\"daily_returns\"}},\"id\":\"3785\",\"type\":\"Line\"},{\"attributes\":{},\"id\":\"3768\",\"type\":\"SaveTool\"},{\"attributes\":{\"months\":[0,6]},\"id\":\"3816\",\"type\":\"MonthsTicker\"},{\"attributes\":{\"line_color\":\"#30a2da\",\"line_width\":2,\"x\":{\"field\":\"time\"},\"y\":{\"field\":\"daily_returns\"}},\"id\":\"3784\",\"type\":\"Line\"},{\"attributes\":{},\"id\":\"3769\",\"type\":\"PanTool\"},{\"attributes\":{},\"id\":\"3817\",\"type\":\"YearsTicker\"},{\"attributes\":{\"coordinates\":null,\"data_source\":{\"id\":\"3781\"},\"glyph\":{\"id\":\"3784\"},\"group\":null,\"hover_glyph\":null,\"muted_glyph\":{\"id\":\"3786\"},\"nonselection_glyph\":{\"id\":\"3785\"},\"selection_glyph\":{\"id\":\"3789\"},\"view\":{\"id\":\"3788\"}},\"id\":\"3787\",\"type\":\"GlyphRenderer\"},{\"attributes\":{},\"id\":\"3770\",\"type\":\"WheelZoomTool\"},{\"attributes\":{\"tools\":[{\"id\":\"3750\"},{\"id\":\"3768\"},{\"id\":\"3769\"},{\"id\":\"3770\"},{\"id\":\"3771\"},{\"id\":\"3772\"}]},\"id\":\"3774\",\"type\":\"Toolbar\"},{\"attributes\":{\"overlay\":{\"id\":\"3773\"}},\"id\":\"3771\",\"type\":\"BoxZoomTool\"},{\"attributes\":{},\"id\":\"3803\",\"type\":\"UnionRenderers\"},{\"attributes\":{\"children\":[{\"id\":\"3747\"},{\"id\":\"3751\"},{\"id\":\"3818\"}],\"margin\":[0,0,0,0],\"name\":\"Row03305\",\"tags\":[\"embedded\"]},\"id\":\"3746\",\"type\":\"Row\"},{\"attributes\":{},\"id\":\"3756\",\"type\":\"LinearScale\"},{\"attributes\":{\"coordinates\":null,\"group\":null,\"text\":\"Daily Returns of PYPL\",\"text_color\":\"black\",\"text_font_size\":\"12pt\"},\"id\":\"3752\",\"type\":\"Title\"},{\"attributes\":{},\"id\":\"3791\",\"type\":\"DatetimeTickFormatter\"},{\"attributes\":{\"months\":[0,2,4,6,8,10]},\"id\":\"3814\",\"type\":\"MonthsTicker\"},{\"attributes\":{\"line_alpha\":0.2,\"line_color\":\"#30a2da\",\"line_width\":2,\"x\":{\"field\":\"time\"},\"y\":{\"field\":\"daily_returns\"}},\"id\":\"3786\",\"type\":\"Line\"},{\"attributes\":{},\"id\":\"3772\",\"type\":\"ResetTool\"},{\"attributes\":{},\"id\":\"3782\",\"type\":\"Selection\"},{\"attributes\":{\"axis_label\":\"Date\",\"coordinates\":null,\"formatter\":{\"id\":\"3791\"},\"group\":null,\"major_label_policy\":{\"id\":\"3792\"},\"ticker\":{\"id\":\"3761\"}},\"id\":\"3760\",\"type\":\"DatetimeAxis\"},{\"attributes\":{\"base\":24,\"mantissas\":[1,2,4,6,8,12],\"max_interval\":43200000.0,\"min_interval\":3600000.0,\"num_minor_ticks\":0},\"id\":\"3808\",\"type\":\"AdaptiveTicker\"},{\"attributes\":{},\"id\":\"3765\",\"type\":\"BasicTicker\"},{\"attributes\":{\"bottom_units\":\"screen\",\"coordinates\":null,\"fill_alpha\":0.5,\"fill_color\":\"lightgrey\",\"group\":null,\"left_units\":\"screen\",\"level\":\"overlay\",\"line_alpha\":1.0,\"line_color\":\"black\",\"line_dash\":[4,4],\"line_width\":2,\"right_units\":\"screen\",\"syncable\":false,\"top_units\":\"screen\"},\"id\":\"3773\",\"type\":\"BoxAnnotation\"},{\"attributes\":{\"base\":60,\"mantissas\":[1,2,5,10,15,20,30],\"max_interval\":1800000.0,\"min_interval\":1000.0,\"num_minor_ticks\":0},\"id\":\"3807\",\"type\":\"AdaptiveTicker\"},{\"attributes\":{},\"id\":\"3758\",\"type\":\"LinearScale\"},{\"attributes\":{\"months\":[0,1,2,3,4,5,6,7,8,9,10,11]},\"id\":\"3813\",\"type\":\"MonthsTicker\"},{\"attributes\":{\"margin\":[5,5,5,5],\"name\":\"HSpacer03310\",\"sizing_mode\":\"stretch_width\"},\"id\":\"3818\",\"type\":\"Spacer\"},{\"attributes\":{\"callback\":null,\"formatters\":{\"@{time}\":\"datetime\"},\"renderers\":[{\"id\":\"3787\"}],\"tags\":[\"hv_created\"],\"tooltips\":[[\"time\",\"@{time}{%F %T}\"],[\"daily_returns\",\"@{daily_returns}\"]]},\"id\":\"3750\",\"type\":\"HoverTool\"},{\"attributes\":{},\"id\":\"3792\",\"type\":\"AllLabels\"},{\"attributes\":{\"num_minor_ticks\":5,\"tickers\":[{\"id\":\"3806\"},{\"id\":\"3807\"},{\"id\":\"3808\"},{\"id\":\"3809\"},{\"id\":\"3810\"},{\"id\":\"3811\"},{\"id\":\"3812\"},{\"id\":\"3813\"},{\"id\":\"3814\"},{\"id\":\"3815\"},{\"id\":\"3816\"},{\"id\":\"3817\"}]},\"id\":\"3761\",\"type\":\"DatetimeTicker\"},{\"attributes\":{\"days\":[1,2,3,4,5,6,7,8,9,10,11,12,13,14,15,16,17,18,19,20,21,22,23,24,25,26,27,28,29,30,31]},\"id\":\"3809\",\"type\":\"DaysTicker\"},{\"attributes\":{\"margin\":[5,5,5,5],\"name\":\"HSpacer03309\",\"sizing_mode\":\"stretch_width\"},\"id\":\"3747\",\"type\":\"Spacer\"},{\"attributes\":{\"axis\":{\"id\":\"3760\"},\"coordinates\":null,\"grid_line_color\":null,\"group\":null,\"ticker\":null},\"id\":\"3763\",\"type\":\"Grid\"},{\"attributes\":{\"days\":[1,4,7,10,13,16,19,22,25,28]},\"id\":\"3810\",\"type\":\"DaysTicker\"},{\"attributes\":{\"end\":1607040000000.0,\"reset_end\":1607040000000.0,\"reset_start\":1481846400000.0,\"start\":1481846400000.0,\"tags\":[[[\"time\",\"time\",null]]]},\"id\":\"3748\",\"type\":\"Range1d\"},{\"attributes\":{\"axis\":{\"id\":\"3764\"},\"coordinates\":null,\"dimension\":1,\"grid_line_color\":null,\"group\":null,\"ticker\":null},\"id\":\"3767\",\"type\":\"Grid\"},{\"attributes\":{\"days\":[1,8,15,22]},\"id\":\"3811\",\"type\":\"DaysTicker\"},{\"attributes\":{\"axis_label\":\"Returns (%)\",\"coordinates\":null,\"formatter\":{\"id\":\"3794\"},\"group\":null,\"major_label_policy\":{\"id\":\"3795\"},\"ticker\":{\"id\":\"3765\"}},\"id\":\"3764\",\"type\":\"LinearAxis\"},{\"attributes\":{\"days\":[1,15]},\"id\":\"3812\",\"type\":\"DaysTicker\"},{\"attributes\":{\"source\":{\"id\":\"3781\"}},\"id\":\"3788\",\"type\":\"CDSView\"},{\"attributes\":{\"data\":{\"daily_returns\":{\"__ndarray__\":\"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\",\"dtype\":\"float64\",\"order\":\"little\",\"shape\":[999]},\"time\":{\"__ndarray__\":\"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\",\"dtype\":\"float64\",\"order\":\"little\",\"shape\":[999]}},\"selected\":{\"id\":\"3782\"},\"selection_policy\":{\"id\":\"3803\"}},\"id\":\"3781\",\"type\":\"ColumnDataSource\"}],\"root_ids\":[\"3746\"]},\"title\":\"Bokeh Application\",\"version\":\"2.4.3\"}};\n",
       "    var render_items = [{\"docid\":\"4e3c2c6e-f3c1-409b-875b-511ad2af797a\",\"root_ids\":[\"3746\"],\"roots\":{\"3746\":\"4e530988-3300-4ee3-bf71-7d681e739f6b\"}}];\n",
       "    root.Bokeh.embed.embed_items_notebook(docs_json, render_items);\n",
       "  }\n",
       "  if (root.Bokeh !== undefined && root.Bokeh.Panel !== undefined) {\n",
       "    embed_document(root);\n",
       "  } else {\n",
       "    var attempts = 0;\n",
       "    var timer = setInterval(function(root) {\n",
       "      if (root.Bokeh !== undefined && root.Bokeh.Panel !== undefined) {\n",
       "        clearInterval(timer);\n",
       "        embed_document(root);\n",
       "      } else if (document.readyState == \"complete\") {\n",
       "        attempts++;\n",
       "        if (attempts > 200) {\n",
       "          clearInterval(timer);\n",
       "          console.log(\"Bokeh: ERROR: Unable to run BokehJS code because BokehJS library is missing\");\n",
       "        }\n",
       "      }\n",
       "    }, 25, root)\n",
       "  }\n",
       "})(window);</script>"
      ],
      "text/plain": [
       ":Curve   [time]   (daily_returns)"
      ]
     },
     "execution_count": 55,
     "metadata": {
      "application/vnd.holoviews_exec.v0+json": {
       "id": "3746"
      }
     },
     "output_type": "execute_result"
    }
   ],
   "source": [
    "# Create an interactive visualization with hvplot to plot the daily returns for PYPL.\n",
    "pypl_dataframe.hvplot(\n",
    "    title = 'Daily Returns of PYPL',\n",
    "    x = 'time',\n",
    "    y = 'daily_returns',\n",
    "    xlabel = 'Date',\n",
    "    ylabel = 'Returns (%)'\n",
    ").opts(\n",
    "    frame_width = 1000,\n",
    "    frame_height = 500\n",
    ")"
   ]
  },
  {
   "cell_type": "markdown",
   "metadata": {},
   "source": [
    "### Step 4: Using hvPlot, create an interactive visualization for the PYPL cumulative returns. Reflect the “time” column of the DataFrame on the x-axis. Make sure that you professionally style and format your visualization to enhance its readability."
   ]
  },
  {
   "cell_type": "code",
   "execution_count": 54,
   "metadata": {},
   "outputs": [
    {
     "data": {},
     "metadata": {},
     "output_type": "display_data"
    },
    {
     "data": {
      "application/vnd.holoviews_exec.v0+json": "",
      "text/html": [
       "<div id='3562'>\n",
       "  <div class=\"bk-root\" id=\"c969d0a1-8de4-4ba3-bd45-c14d2972dc4b\" data-root-id=\"3562\"></div>\n",
       "</div>\n",
       "<script type=\"application/javascript\">(function(root) {\n",
       "  function embed_document(root) {\n",
       "    var docs_json = {\"5d664e58-1a23-42bc-a880-171fa1c73a86\":{\"defs\":[{\"extends\":null,\"module\":null,\"name\":\"ReactiveHTML1\",\"overrides\":[],\"properties\":[]},{\"extends\":null,\"module\":null,\"name\":\"FlexBox1\",\"overrides\":[],\"properties\":[{\"default\":\"flex-start\",\"kind\":null,\"name\":\"align_content\"},{\"default\":\"flex-start\",\"kind\":null,\"name\":\"align_items\"},{\"default\":\"row\",\"kind\":null,\"name\":\"flex_direction\"},{\"default\":\"wrap\",\"kind\":null,\"name\":\"flex_wrap\"},{\"default\":\"flex-start\",\"kind\":null,\"name\":\"justify_content\"}]},{\"extends\":null,\"module\":null,\"name\":\"GridStack1\",\"overrides\":[],\"properties\":[{\"default\":\"warn\",\"kind\":null,\"name\":\"mode\"},{\"default\":null,\"kind\":null,\"name\":\"ncols\"},{\"default\":null,\"kind\":null,\"name\":\"nrows\"},{\"default\":true,\"kind\":null,\"name\":\"allow_resize\"},{\"default\":true,\"kind\":null,\"name\":\"allow_drag\"},{\"default\":[],\"kind\":null,\"name\":\"state\"}]},{\"extends\":null,\"module\":null,\"name\":\"click1\",\"overrides\":[],\"properties\":[{\"default\":\"\",\"kind\":null,\"name\":\"terminal_output\"},{\"default\":\"\",\"kind\":null,\"name\":\"debug_name\"},{\"default\":0,\"kind\":null,\"name\":\"clears\"}]},{\"extends\":null,\"module\":null,\"name\":\"NotificationAreaBase1\",\"overrides\":[],\"properties\":[{\"default\":\"bottom-right\",\"kind\":null,\"name\":\"position\"},{\"default\":0,\"kind\":null,\"name\":\"_clear\"}]},{\"extends\":null,\"module\":null,\"name\":\"NotificationArea1\",\"overrides\":[],\"properties\":[{\"default\":[],\"kind\":null,\"name\":\"notifications\"},{\"default\":\"bottom-right\",\"kind\":null,\"name\":\"position\"},{\"default\":0,\"kind\":null,\"name\":\"_clear\"},{\"default\":[{\"background\":\"#ffc107\",\"icon\":{\"className\":\"fas fa-exclamation-triangle\",\"color\":\"white\",\"tagName\":\"i\"},\"type\":\"warning\"},{\"background\":\"#007bff\",\"icon\":{\"className\":\"fas fa-info-circle\",\"color\":\"white\",\"tagName\":\"i\"},\"type\":\"info\"}],\"kind\":null,\"name\":\"types\"}]},{\"extends\":null,\"module\":null,\"name\":\"Notification\",\"overrides\":[],\"properties\":[{\"default\":null,\"kind\":null,\"name\":\"background\"},{\"default\":3000,\"kind\":null,\"name\":\"duration\"},{\"default\":null,\"kind\":null,\"name\":\"icon\"},{\"default\":\"\",\"kind\":null,\"name\":\"message\"},{\"default\":null,\"kind\":null,\"name\":\"notification_type\"},{\"default\":false,\"kind\":null,\"name\":\"_destroyed\"}]},{\"extends\":null,\"module\":null,\"name\":\"TemplateActions1\",\"overrides\":[],\"properties\":[{\"default\":0,\"kind\":null,\"name\":\"open_modal\"},{\"default\":0,\"kind\":null,\"name\":\"close_modal\"}]},{\"extends\":null,\"module\":null,\"name\":\"MaterialTemplateActions1\",\"overrides\":[],\"properties\":[{\"default\":0,\"kind\":null,\"name\":\"open_modal\"},{\"default\":0,\"kind\":null,\"name\":\"close_modal\"}]}],\"roots\":{\"references\":[{\"attributes\":{\"line_alpha\":0.2,\"line_color\":\"#30a2da\",\"line_width\":2,\"x\":{\"field\":\"time\"},\"y\":{\"field\":\"daily_returns\"}},\"id\":\"3602\",\"type\":\"Line\"},{\"attributes\":{},\"id\":\"3619\",\"type\":\"UnionRenderers\"},{\"attributes\":{\"mantissas\":[1,2,5],\"max_interval\":500.0,\"num_minor_ticks\":0},\"id\":\"3622\",\"type\":\"AdaptiveTicker\"},{\"attributes\":{\"source\":{\"id\":\"3597\"}},\"id\":\"3604\",\"type\":\"CDSView\"},{\"attributes\":{},\"id\":\"3607\",\"type\":\"DatetimeTickFormatter\"},{\"attributes\":{\"end\":1607040000000.0,\"reset_end\":1607040000000.0,\"reset_start\":1481846400000.0,\"start\":1481846400000.0,\"tags\":[[[\"time\",\"time\",null]]]},\"id\":\"3564\",\"type\":\"Range1d\"},{\"attributes\":{\"base\":60,\"mantissas\":[1,2,5,10,15,20,30],\"max_interval\":1800000.0,\"min_interval\":1000.0,\"num_minor_ticks\":0},\"id\":\"3623\",\"type\":\"AdaptiveTicker\"},{\"attributes\":{\"coordinates\":null,\"data_source\":{\"id\":\"3597\"},\"glyph\":{\"id\":\"3600\"},\"group\":null,\"hover_glyph\":null,\"muted_glyph\":{\"id\":\"3602\"},\"nonselection_glyph\":{\"id\":\"3601\"},\"selection_glyph\":{\"id\":\"3605\"},\"view\":{\"id\":\"3604\"}},\"id\":\"3603\",\"type\":\"GlyphRenderer\"},{\"attributes\":{},\"id\":\"3608\",\"type\":\"AllLabels\"},{\"attributes\":{},\"id\":\"3633\",\"type\":\"YearsTicker\"},{\"attributes\":{\"below\":[{\"id\":\"3576\"}],\"center\":[{\"id\":\"3579\"},{\"id\":\"3583\"}],\"frame_height\":500,\"frame_width\":1000,\"height\":null,\"left\":[{\"id\":\"3580\"}],\"margin\":[5,5,5,5],\"min_border_bottom\":10,\"min_border_left\":10,\"min_border_right\":10,\"min_border_top\":10,\"renderers\":[{\"id\":\"3603\"}],\"sizing_mode\":\"fixed\",\"title\":{\"id\":\"3568\"},\"toolbar\":{\"id\":\"3590\"},\"width\":null,\"x_range\":{\"id\":\"3564\"},\"x_scale\":{\"id\":\"3572\"},\"y_range\":{\"id\":\"3565\"},\"y_scale\":{\"id\":\"3574\"}},\"id\":\"3567\",\"subtype\":\"Figure\",\"type\":\"Plot\"},{\"attributes\":{},\"id\":\"3584\",\"type\":\"SaveTool\"},{\"attributes\":{\"line_alpha\":0.1,\"line_color\":\"#30a2da\",\"line_width\":2,\"x\":{\"field\":\"time\"},\"y\":{\"field\":\"daily_returns\"}},\"id\":\"3601\",\"type\":\"Line\"},{\"attributes\":{},\"id\":\"3585\",\"type\":\"PanTool\"},{\"attributes\":{},\"id\":\"3586\",\"type\":\"WheelZoomTool\"},{\"attributes\":{},\"id\":\"3611\",\"type\":\"AllLabels\"},{\"attributes\":{\"tools\":[{\"id\":\"3566\"},{\"id\":\"3584\"},{\"id\":\"3585\"},{\"id\":\"3586\"},{\"id\":\"3587\"},{\"id\":\"3588\"}]},\"id\":\"3590\",\"type\":\"Toolbar\"},{\"attributes\":{\"overlay\":{\"id\":\"3589\"}},\"id\":\"3587\",\"type\":\"BoxZoomTool\"},{\"attributes\":{},\"id\":\"3572\",\"type\":\"LinearScale\"},{\"attributes\":{\"coordinates\":null,\"group\":null,\"text\":\"Cumulative Returns of PYPL\",\"text_color\":\"black\",\"text_font_size\":\"12pt\"},\"id\":\"3568\",\"type\":\"Title\"},{\"attributes\":{\"days\":[1,4,7,10,13,16,19,22,25,28]},\"id\":\"3626\",\"type\":\"DaysTicker\"},{\"attributes\":{},\"id\":\"3588\",\"type\":\"ResetTool\"},{\"attributes\":{},\"id\":\"3598\",\"type\":\"Selection\"},{\"attributes\":{\"axis_label\":\"Date\",\"coordinates\":null,\"formatter\":{\"id\":\"3607\"},\"group\":null,\"major_label_policy\":{\"id\":\"3608\"},\"ticker\":{\"id\":\"3577\"}},\"id\":\"3576\",\"type\":\"DatetimeAxis\"},{\"attributes\":{\"days\":[1,8,15,22]},\"id\":\"3627\",\"type\":\"DaysTicker\"},{\"attributes\":{},\"id\":\"3581\",\"type\":\"BasicTicker\"},{\"attributes\":{\"bottom_units\":\"screen\",\"coordinates\":null,\"fill_alpha\":0.5,\"fill_color\":\"lightgrey\",\"group\":null,\"left_units\":\"screen\",\"level\":\"overlay\",\"line_alpha\":1.0,\"line_color\":\"black\",\"line_dash\":[4,4],\"line_width\":2,\"right_units\":\"screen\",\"syncable\":false,\"top_units\":\"screen\"},\"id\":\"3589\",\"type\":\"BoxAnnotation\"},{\"attributes\":{},\"id\":\"3574\",\"type\":\"LinearScale\"},{\"attributes\":{\"line_color\":\"#30a2da\",\"line_width\":2,\"x\":{\"field\":\"time\"},\"y\":{\"field\":\"daily_returns\"}},\"id\":\"3605\",\"type\":\"Line\"},{\"attributes\":{\"days\":[1,15]},\"id\":\"3628\",\"type\":\"DaysTicker\"},{\"attributes\":{\"margin\":[5,5,5,5],\"name\":\"HSpacer03180\",\"sizing_mode\":\"stretch_width\"},\"id\":\"3563\",\"type\":\"Spacer\"},{\"attributes\":{},\"id\":\"3610\",\"type\":\"BasicTickFormatter\"},{\"attributes\":{\"months\":[0,1,2,3,4,5,6,7,8,9,10,11]},\"id\":\"3629\",\"type\":\"MonthsTicker\"},{\"attributes\":{\"num_minor_ticks\":5,\"tickers\":[{\"id\":\"3622\"},{\"id\":\"3623\"},{\"id\":\"3624\"},{\"id\":\"3625\"},{\"id\":\"3626\"},{\"id\":\"3627\"},{\"id\":\"3628\"},{\"id\":\"3629\"},{\"id\":\"3630\"},{\"id\":\"3631\"},{\"id\":\"3632\"},{\"id\":\"3633\"}]},\"id\":\"3577\",\"type\":\"DatetimeTicker\"},{\"attributes\":{\"base\":24,\"mantissas\":[1,2,4,6,8,12],\"max_interval\":43200000.0,\"min_interval\":3600000.0,\"num_minor_ticks\":0},\"id\":\"3624\",\"type\":\"AdaptiveTicker\"},{\"attributes\":{\"line_color\":\"#30a2da\",\"line_width\":2,\"x\":{\"field\":\"time\"},\"y\":{\"field\":\"daily_returns\"}},\"id\":\"3600\",\"type\":\"Line\"},{\"attributes\":{\"months\":[0,2,4,6,8,10]},\"id\":\"3630\",\"type\":\"MonthsTicker\"},{\"attributes\":{\"margin\":[5,5,5,5],\"name\":\"HSpacer03181\",\"sizing_mode\":\"stretch_width\"},\"id\":\"3634\",\"type\":\"Spacer\"},{\"attributes\":{\"axis\":{\"id\":\"3576\"},\"coordinates\":null,\"grid_line_color\":null,\"group\":null,\"ticker\":null},\"id\":\"3579\",\"type\":\"Grid\"},{\"attributes\":{\"end\":2.1513475846797383,\"reset_end\":2.1513475846797383,\"reset_start\":-0.20164685588411468,\"start\":-0.20164685588411468,\"tags\":[[[\"daily_returns\",\"daily_returns\",null]]]},\"id\":\"3565\",\"type\":\"Range1d\"},{\"attributes\":{\"days\":[1,2,3,4,5,6,7,8,9,10,11,12,13,14,15,16,17,18,19,20,21,22,23,24,25,26,27,28,29,30,31]},\"id\":\"3625\",\"type\":\"DaysTicker\"},{\"attributes\":{\"months\":[0,4,8]},\"id\":\"3631\",\"type\":\"MonthsTicker\"},{\"attributes\":{\"children\":[{\"id\":\"3563\"},{\"id\":\"3567\"},{\"id\":\"3634\"}],\"margin\":[0,0,0,0],\"name\":\"Row03176\",\"tags\":[\"embedded\"]},\"id\":\"3562\",\"type\":\"Row\"},{\"attributes\":{\"axis\":{\"id\":\"3580\"},\"coordinates\":null,\"dimension\":1,\"grid_line_color\":null,\"group\":null,\"ticker\":null},\"id\":\"3583\",\"type\":\"Grid\"},{\"attributes\":{\"axis_label\":\"Returns (%)\",\"coordinates\":null,\"formatter\":{\"id\":\"3610\"},\"group\":null,\"major_label_policy\":{\"id\":\"3611\"},\"ticker\":{\"id\":\"3581\"}},\"id\":\"3580\",\"type\":\"LinearAxis\"},{\"attributes\":{\"data\":{\"daily_returns\":{\"__ndarray__\":\"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\",\"dtype\":\"float64\",\"order\":\"little\",\"shape\":[999]},\"time\":{\"__ndarray__\":\"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\",\"dtype\":\"float64\",\"order\":\"little\",\"shape\":[999]}},\"selected\":{\"id\":\"3598\"},\"selection_policy\":{\"id\":\"3619\"}},\"id\":\"3597\",\"type\":\"ColumnDataSource\"},{\"attributes\":{\"months\":[0,6]},\"id\":\"3632\",\"type\":\"MonthsTicker\"},{\"attributes\":{\"callback\":null,\"formatters\":{\"@{time}\":\"datetime\"},\"renderers\":[{\"id\":\"3603\"}],\"tags\":[\"hv_created\"],\"tooltips\":[[\"time\",\"@{time}{%F %T}\"],[\"daily_returns\",\"@{daily_returns}\"]]},\"id\":\"3566\",\"type\":\"HoverTool\"}],\"root_ids\":[\"3562\"]},\"title\":\"Bokeh Application\",\"version\":\"2.4.3\"}};\n",
       "    var render_items = [{\"docid\":\"5d664e58-1a23-42bc-a880-171fa1c73a86\",\"root_ids\":[\"3562\"],\"roots\":{\"3562\":\"c969d0a1-8de4-4ba3-bd45-c14d2972dc4b\"}}];\n",
       "    root.Bokeh.embed.embed_items_notebook(docs_json, render_items);\n",
       "  }\n",
       "  if (root.Bokeh !== undefined && root.Bokeh.Panel !== undefined) {\n",
       "    embed_document(root);\n",
       "  } else {\n",
       "    var attempts = 0;\n",
       "    var timer = setInterval(function(root) {\n",
       "      if (root.Bokeh !== undefined && root.Bokeh.Panel !== undefined) {\n",
       "        clearInterval(timer);\n",
       "        embed_document(root);\n",
       "      } else if (document.readyState == \"complete\") {\n",
       "        attempts++;\n",
       "        if (attempts > 200) {\n",
       "          clearInterval(timer);\n",
       "          console.log(\"Bokeh: ERROR: Unable to run BokehJS code because BokehJS library is missing\");\n",
       "        }\n",
       "      }\n",
       "    }, 25, root)\n",
       "  }\n",
       "})(window);</script>"
      ],
      "text/plain": [
       ":Curve   [time]   (daily_returns)"
      ]
     },
     "execution_count": 54,
     "metadata": {
      "application/vnd.holoviews_exec.v0+json": {
       "id": "3562"
      }
     },
     "output_type": "execute_result"
    }
   ],
   "source": [
    "# Create an interactive visaulization with hvplot to plot the cumulative returns for PYPL.\n",
    "pypl_df_cumsum = pypl_dataframe[\"daily_returns\"].cumsum()\n",
    "\n",
    "pypl_df_cumsum.hvplot(\n",
    "    title = 'Cumulative Returns of PYPL',\n",
    "    x = 'time',\n",
    "    y = 'daily_returns',\n",
    "    xlabel = 'Date',\n",
    "    ylabel = 'Returns (%)'\n",
    ").opts(\n",
    "    frame_width = 1000,\n",
    "    frame_height = 500\n",
    ")"
   ]
  },
  {
   "cell_type": "markdown",
   "metadata": {},
   "source": [
    "## Optimize the SQL Queries\n",
    "\n",
    "For this part of the assignment, you’ll continue to analyze a single asset (PYPL) from the ETF. You’ll use advanced SQL queries to optimize the efficiency of accessing data from the database.\n",
    "\n",
    "Complete the following steps:\n",
    "\n",
    "1. Access the closing prices for PYPL that are greater than 200 by completing the following steps:\n",
    "\n",
    "1. Access the closing prices for PYPL that are greater than 200 by completing the following steps:\n",
    "\n",
    "    - Write a SQL `SELECT` statement to select the dates where the PYPL closing price was higher than 200.0.\n",
    "\n",
    "    - Select the “time” and “close” columns for those dates where the closing price was higher than 200.0.\n",
    "\n",
    "    - Using the SQL statement, read the data from the database into a Pandas DataFrame, and then review the resulting DataFrame.\n",
    "\n",
    "2. Find the top 10 daily returns for PYPL by completing the following steps:\n",
    "\n",
    "    -  Write a SQL statement to find the top 10 PYPL daily returns. Make sure to do the following:\n",
    "\n",
    "        * Use `SELECT` to select only the “time” and “daily_returns” columns.\n",
    "\n",
    "        * Use `ORDER` to sort the results in descending order by the “daily_returns” column.\n",
    "\n",
    "        * Use `LIMIT` to limit the results to the top 10 daily return values.\n",
    "\n",
    "    - Using the SQL statement, read the data from the database into a Pandas DataFrame, and then review the resulting DataFrame.\n"
   ]
  },
  {
   "cell_type": "markdown",
   "metadata": {},
   "source": [
    "### Step 1: Access the closing prices for PYPL that are greater than 200 by completing the following steps:\n",
    "\n",
    "    - Write a SQL `SELECT` statement to select the dates where the PYPL closing price was higher than 200.0.\n",
    "\n",
    "    - Select the “time” and “close” columns for those dates where the closing price was higher than 200.0.\n",
    "\n",
    "    - Using the SQL statement, read the data from the database into a Pandas DataFrame, and then review the resulting DataFrame.\n"
   ]
  },
  {
   "cell_type": "code",
   "execution_count": 35,
   "metadata": {
    "scrolled": true
   },
   "outputs": [
    {
     "data": {
      "text/html": [
       "<div>\n",
       "<style scoped>\n",
       "    .dataframe tbody tr th:only-of-type {\n",
       "        vertical-align: middle;\n",
       "    }\n",
       "\n",
       "    .dataframe tbody tr th {\n",
       "        vertical-align: top;\n",
       "    }\n",
       "\n",
       "    .dataframe thead th {\n",
       "        text-align: right;\n",
       "    }\n",
       "</style>\n",
       "<table border=\"1\" class=\"dataframe\">\n",
       "  <thead>\n",
       "    <tr style=\"text-align: right;\">\n",
       "      <th></th>\n",
       "      <th>time</th>\n",
       "      <th>close</th>\n",
       "    </tr>\n",
       "  </thead>\n",
       "  <tbody>\n",
       "    <tr>\n",
       "      <th>0</th>\n",
       "      <td>2020-08-05</td>\n",
       "      <td>202.92</td>\n",
       "    </tr>\n",
       "    <tr>\n",
       "      <th>1</th>\n",
       "      <td>2020-08-06</td>\n",
       "      <td>204.09</td>\n",
       "    </tr>\n",
       "    <tr>\n",
       "      <th>2</th>\n",
       "      <td>2020-08-25</td>\n",
       "      <td>201.71</td>\n",
       "    </tr>\n",
       "    <tr>\n",
       "      <th>3</th>\n",
       "      <td>2020-08-26</td>\n",
       "      <td>203.53</td>\n",
       "    </tr>\n",
       "    <tr>\n",
       "      <th>4</th>\n",
       "      <td>2020-08-27</td>\n",
       "      <td>204.34</td>\n",
       "    </tr>\n",
       "  </tbody>\n",
       "</table>\n",
       "</div>"
      ],
      "text/plain": [
       "        time   close\n",
       "0 2020-08-05  202.92\n",
       "1 2020-08-06  204.09\n",
       "2 2020-08-25  201.71\n",
       "3 2020-08-26  203.53\n",
       "4 2020-08-27  204.34"
      ]
     },
     "execution_count": 35,
     "metadata": {},
     "output_type": "execute_result"
    }
   ],
   "source": [
    "# Write a SQL SELECT statement to select the time and close columns \n",
    "# where the PYPL closing price was higher than 200.0.\n",
    "query = \"\"\"\n",
    "SELECT time, close\n",
    "FROM PYPL\n",
    "WHERE close > 200\n",
    "\"\"\"\n",
    "\n",
    "# Using the query, read the data from the database into a Pandas DataFrame\n",
    "pypl_higher_than_200 = pd.read_sql(query, con=engine)\n",
    "pypl_higher_than_200['time'] = pd.to_datetime(pypl_higher_than_200['time'])\n",
    "\n",
    "# Review the resulting DataFrame\n",
    "pypl_higher_than_200.head()\n"
   ]
  },
  {
   "cell_type": "markdown",
   "metadata": {},
   "source": [
    "### Step 2: Find the top 10 daily returns for PYPL by completing the following steps:\n",
    "\n",
    "    -  Write a SQL statement to find the top 10 PYPL daily returns. Make sure to do the following:\n",
    "\n",
    "        * Use `SELECT` to select only the “time” and “daily_returns” columns.\n",
    "\n",
    "        * Use `ORDER` to sort the results in descending order by the “daily_returns” column.\n",
    "\n",
    "        * Use `LIMIT` to limit the results to the top 10 daily return values.\n",
    "\n",
    "    - Using the SQL statement, read the data from the database into a Pandas DataFrame, and then review the resulting DataFrame.\n"
   ]
  },
  {
   "cell_type": "code",
   "execution_count": 36,
   "metadata": {},
   "outputs": [
    {
     "data": {
      "text/html": [
       "<div>\n",
       "<style scoped>\n",
       "    .dataframe tbody tr th:only-of-type {\n",
       "        vertical-align: middle;\n",
       "    }\n",
       "\n",
       "    .dataframe tbody tr th {\n",
       "        vertical-align: top;\n",
       "    }\n",
       "\n",
       "    .dataframe thead th {\n",
       "        text-align: right;\n",
       "    }\n",
       "</style>\n",
       "<table border=\"1\" class=\"dataframe\">\n",
       "  <thead>\n",
       "    <tr style=\"text-align: right;\">\n",
       "      <th></th>\n",
       "      <th>daily_returns</th>\n",
       "    </tr>\n",
       "    <tr>\n",
       "      <th>time</th>\n",
       "      <th></th>\n",
       "    </tr>\n",
       "  </thead>\n",
       "  <tbody>\n",
       "    <tr>\n",
       "      <th>2020-03-24 00:00:00.000000</th>\n",
       "      <td>0.140981</td>\n",
       "    </tr>\n",
       "    <tr>\n",
       "      <th>2020-05-07 00:00:00.000000</th>\n",
       "      <td>0.140318</td>\n",
       "    </tr>\n",
       "    <tr>\n",
       "      <th>2020-03-13 00:00:00.000000</th>\n",
       "      <td>0.138700</td>\n",
       "    </tr>\n",
       "    <tr>\n",
       "      <th>2020-04-06 00:00:00.000000</th>\n",
       "      <td>0.100877</td>\n",
       "    </tr>\n",
       "    <tr>\n",
       "      <th>2018-10-19 00:00:00.000000</th>\n",
       "      <td>0.093371</td>\n",
       "    </tr>\n",
       "  </tbody>\n",
       "</table>\n",
       "</div>"
      ],
      "text/plain": [
       "                            daily_returns\n",
       "time                                     \n",
       "2020-03-24 00:00:00.000000       0.140981\n",
       "2020-05-07 00:00:00.000000       0.140318\n",
       "2020-03-13 00:00:00.000000       0.138700\n",
       "2020-04-06 00:00:00.000000       0.100877\n",
       "2018-10-19 00:00:00.000000       0.093371"
      ]
     },
     "execution_count": 36,
     "metadata": {},
     "output_type": "execute_result"
    }
   ],
   "source": [
    "# Write a SQL SELECT statement to select the time and daily_returns columns\n",
    "# Sort the results in descending order and return only the top 10 return values\n",
    "query = \"\"\"\n",
    "SELECT time, daily_returns\n",
    "FROM PYPL\n",
    "ORDER BY daily_returns DESC\n",
    "LIMIT 10\n",
    "\"\"\"\n",
    "\n",
    "# Using the query, read the data from the database into a Pandas DataFrame\n",
    "pypl_top_10_returns = pd.read_sql(query, con=engine, index_col='time')\n",
    "\n",
    "# Review the resulting DataFrame\n",
    "pypl_top_10_returns.head()"
   ]
  },
  {
   "cell_type": "markdown",
   "metadata": {},
   "source": [
    "## Analyze the Fintech ETF Portfolio\n",
    "\n",
    "For this part of the assignment, you’ll build the entire ETF portfolio and then evaluate its performance. To do so, you’ll build the ETF portfolio by using SQL joins to combine all the data for each asset.\n",
    "\n",
    "Complete the following steps:\n",
    "\n",
    "1. Write a SQL query to join each table in the portfolio into a single DataFrame. To do so, complete the following steps:\n",
    "\n",
    "    - Use a SQL inner join to join each table on the “time” column. Access the “time” column in the `GDOT` table via the `GDOT.time` syntax. Access the “time” columns from the other tables via similar syntax.\n",
    "\n",
    "    - Using the SQL query, read the data from the database into a Pandas DataFrame. Review the resulting DataFrame.\n",
    "\n",
    "2. Create a DataFrame that averages the “daily_returns” columns for all four assets. Review the resulting DataFrame.\n",
    "\n",
    "    > **Hint** Assuming that this ETF contains equally weighted returns, you can average the returns for each asset to get the average returns of the portfolio. You can then use the average returns of the portfolio to calculate the annualized returns and the cumulative returns. For the calculation to get the average daily returns for the portfolio, use the following code:\n",
    "    >\n",
    "    > ```python\n",
    "    > etf_portfolio_returns = etf_portfolio['daily_returns'].mean(axis=1)\n",
    "    > ```\n",
    "    >\n",
    "    > You can use the average daily returns of the portfolio the same way that you used the daily returns of a single asset.\n",
    "\n",
    "3. Use the average daily returns in the `etf_portfolio_returns` DataFrame to calculate the annualized returns for the portfolio. Display the annualized return value of the ETF portfolio.\n",
    "\n",
    "> **Hint**  To calculate the annualized returns, multiply the mean of the `etf_portfolio_returns` values by 252.\n",
    ">\n",
    "> To convert the decimal values to percentages, multiply the results by 100.\n",
    "\n",
    "4. Use the average daily returns in the `etf_portfolio_returns` DataFrame to calculate the cumulative returns of the ETF portfolio.\n",
    "\n",
    "5. Using hvPlot, create an interactive line plot that visualizes the cumulative return values of the ETF portfolio. Reflect the “time” column of the DataFrame on the x-axis. Make sure that you professionally style and format your visualization to enhance its readability.\n"
   ]
  },
  {
   "cell_type": "markdown",
   "metadata": {},
   "source": [
    "### Step 1: Write a SQL query to join each table in the portfolio into a single DataFrame. To do so, complete the following steps:\n",
    "\n",
    "    - Use a SQL inner join to join each table on the “time” column. Access the “time” column in the `GDOT` table via the `GDOT.time` syntax. Access the “time” columns from the other tables via similar syntax.\n",
    "\n",
    "    - Using the SQL query, read the data from the database into a Pandas DataFrame. Review the resulting DataFrame."
   ]
  },
  {
   "cell_type": "code",
   "execution_count": 38,
   "metadata": {
    "scrolled": true
   },
   "outputs": [
    {
     "data": {
      "text/html": [
       "<div>\n",
       "<style scoped>\n",
       "    .dataframe tbody tr th:only-of-type {\n",
       "        vertical-align: middle;\n",
       "    }\n",
       "\n",
       "    .dataframe tbody tr th {\n",
       "        vertical-align: top;\n",
       "    }\n",
       "\n",
       "    .dataframe thead th {\n",
       "        text-align: right;\n",
       "    }\n",
       "</style>\n",
       "<table border=\"1\" class=\"dataframe\">\n",
       "  <thead>\n",
       "    <tr style=\"text-align: right;\">\n",
       "      <th></th>\n",
       "      <th>time</th>\n",
       "      <th>PYPL_Returns</th>\n",
       "      <th>GDOT_Returns</th>\n",
       "      <th>GS_Returns</th>\n",
       "      <th>SQ_Returns</th>\n",
       "    </tr>\n",
       "  </thead>\n",
       "  <tbody>\n",
       "    <tr>\n",
       "      <th>0</th>\n",
       "      <td>2016-12-16 00:00:00.000000</td>\n",
       "      <td>-0.005564</td>\n",
       "      <td>-0.023218</td>\n",
       "      <td>-0.016708</td>\n",
       "      <td>0.017339</td>\n",
       "    </tr>\n",
       "    <tr>\n",
       "      <th>1</th>\n",
       "      <td>2016-12-19 00:00:00.000000</td>\n",
       "      <td>0.003306</td>\n",
       "      <td>-0.007923</td>\n",
       "      <td>0.000795</td>\n",
       "      <td>-0.001043</td>\n",
       "    </tr>\n",
       "    <tr>\n",
       "      <th>2</th>\n",
       "      <td>2016-12-20 00:00:00.000000</td>\n",
       "      <td>0.007351</td>\n",
       "      <td>0.001261</td>\n",
       "      <td>0.016602</td>\n",
       "      <td>0.009053</td>\n",
       "    </tr>\n",
       "    <tr>\n",
       "      <th>3</th>\n",
       "      <td>2016-12-21 00:00:00.000000</td>\n",
       "      <td>0.008807</td>\n",
       "      <td>0.001679</td>\n",
       "      <td>-0.006911</td>\n",
       "      <td>-0.007591</td>\n",
       "    </tr>\n",
       "    <tr>\n",
       "      <th>4</th>\n",
       "      <td>2016-12-22 00:00:00.000000</td>\n",
       "      <td>-0.010227</td>\n",
       "      <td>0.006077</td>\n",
       "      <td>-0.005178</td>\n",
       "      <td>-0.023644</td>\n",
       "    </tr>\n",
       "  </tbody>\n",
       "</table>\n",
       "</div>"
      ],
      "text/plain": [
       "                         time  PYPL_Returns  GDOT_Returns  GS_Returns  \\\n",
       "0  2016-12-16 00:00:00.000000     -0.005564     -0.023218   -0.016708   \n",
       "1  2016-12-19 00:00:00.000000      0.003306     -0.007923    0.000795   \n",
       "2  2016-12-20 00:00:00.000000      0.007351      0.001261    0.016602   \n",
       "3  2016-12-21 00:00:00.000000      0.008807      0.001679   -0.006911   \n",
       "4  2016-12-22 00:00:00.000000     -0.010227      0.006077   -0.005178   \n",
       "\n",
       "   SQ_Returns  \n",
       "0    0.017339  \n",
       "1   -0.001043  \n",
       "2    0.009053  \n",
       "3   -0.007591  \n",
       "4   -0.023644  "
      ]
     },
     "execution_count": 38,
     "metadata": {},
     "output_type": "execute_result"
    }
   ],
   "source": [
    "# Wreate a SQL query to join each table in the portfolio into a single DataFrame \n",
    "# Use the time column from each table as the basis for the join\n",
    "query = \"\"\"\n",
    "SELECT p.time, \n",
    "p.daily_returns as 'PYPL_Returns', \n",
    "g.daily_returns as 'GDOT_Returns', \n",
    "s.daily_returns as 'GS_Returns', \n",
    "q.daily_returns as 'SQ_Returns' \n",
    "FROM PYPL as p\n",
    "JOIN GDOT as g \n",
    "ON p.time=g.time\n",
    "JOIN GS as s\n",
    "ON s.time=g.time\n",
    "JOIN SQ as q\n",
    "ON q.time=s.time\n",
    "\"\"\"\n",
    "\n",
    "# Using the query, read the data from the database into a Pandas DataFrame\n",
    "etf_portfolio = etf_portfolio = pd.read_sql(query, con=engine)\n",
    "\n",
    "# Review the resulting DataFrame\n",
    "etf_portfolio.head()"
   ]
  },
  {
   "cell_type": "markdown",
   "metadata": {},
   "source": [
    "### Step 2: Create a DataFrame that averages the “daily_returns” columns for all four assets. Review the resulting DataFrame."
   ]
  },
  {
   "cell_type": "code",
   "execution_count": 42,
   "metadata": {
    "scrolled": true
   },
   "outputs": [
    {
     "data": {
      "text/html": [
       "<div>\n",
       "<style scoped>\n",
       "    .dataframe tbody tr th:only-of-type {\n",
       "        vertical-align: middle;\n",
       "    }\n",
       "\n",
       "    .dataframe tbody tr th {\n",
       "        vertical-align: top;\n",
       "    }\n",
       "\n",
       "    .dataframe thead th {\n",
       "        text-align: right;\n",
       "    }\n",
       "</style>\n",
       "<table border=\"1\" class=\"dataframe\">\n",
       "  <thead>\n",
       "    <tr style=\"text-align: right;\">\n",
       "      <th></th>\n",
       "      <th>Average_Daily_Returns</th>\n",
       "    </tr>\n",
       "    <tr>\n",
       "      <th>time</th>\n",
       "      <th></th>\n",
       "    </tr>\n",
       "  </thead>\n",
       "  <tbody>\n",
       "    <tr>\n",
       "      <th>2016-12-16</th>\n",
       "      <td>-0.007038</td>\n",
       "    </tr>\n",
       "    <tr>\n",
       "      <th>2016-12-19</th>\n",
       "      <td>-0.001216</td>\n",
       "    </tr>\n",
       "    <tr>\n",
       "      <th>2016-12-20</th>\n",
       "      <td>0.008567</td>\n",
       "    </tr>\n",
       "    <tr>\n",
       "      <th>2016-12-21</th>\n",
       "      <td>-0.001004</td>\n",
       "    </tr>\n",
       "    <tr>\n",
       "      <th>2016-12-22</th>\n",
       "      <td>-0.008243</td>\n",
       "    </tr>\n",
       "  </tbody>\n",
       "</table>\n",
       "</div>"
      ],
      "text/plain": [
       "            Average_Daily_Returns\n",
       "time                             \n",
       "2016-12-16              -0.007038\n",
       "2016-12-19              -0.001216\n",
       "2016-12-20               0.008567\n",
       "2016-12-21              -0.001004\n",
       "2016-12-22              -0.008243"
      ]
     },
     "execution_count": 42,
     "metadata": {},
     "output_type": "execute_result"
    }
   ],
   "source": [
    "# Create a DataFrame that displays the mean value of the “daily_returns” columns for all four assets.\n",
    "etf_portfolio[\"Average_Daily_Returns\"] = etf_portfolio[[\"PYPL_Returns\",\"GDOT_Returns\",\"GS_Returns\",\"SQ_Returns\"]].mean(axis = 1)\n",
    "etf_portfolio_returns = etf_portfolio[[\"time\",\"Average_Daily_Returns\"]]\n",
    "\n",
    "# set index to datetime for readability\n",
    "etf_portfolio_returns = etf_portfolio_returns.set_index(\"time\")\n",
    "etf_portfolio_returns.index = pd.to_datetime(etf_portfolio_returns.index)\n",
    "\n",
    "# Review the resulting DataFrame\n",
    "etf_portfolio_returns.head()"
   ]
  },
  {
   "cell_type": "markdown",
   "metadata": {},
   "source": [
    "### Step 3: Use the average daily returns in the etf_portfolio_returns DataFrame to calculate the annualized returns for the portfolio. Display the annualized return value of the ETF portfolio."
   ]
  },
  {
   "cell_type": "code",
   "execution_count": 50,
   "metadata": {},
   "outputs": [
    {
     "name": "stdout",
     "output_type": "stream",
     "text": [
      "Annual Returns: [43.8272724]\n"
     ]
    }
   ],
   "source": [
    "# Use the average daily returns provided by the etf_portfolio_returns DataFrame \n",
    "# to calculate the annualized return for the portfolio. \n",
    "annualized_etf_portfolio_returns = etf_portfolio_returns.mean() * 252 * 100\n",
    "\n",
    "# Display the annualized return value of the ETF portfolio.\n",
    "print(\"Annual Returns:\", annualized_etf_portfolio_returns.values)"
   ]
  },
  {
   "cell_type": "markdown",
   "metadata": {},
   "source": [
    "### Step 4: Use the average daily returns in the `etf_portfolio_returns` DataFrame to calculate the cumulative returns of the ETF portfolio."
   ]
  },
  {
   "cell_type": "code",
   "execution_count": 51,
   "metadata": {},
   "outputs": [
    {
     "data": {
      "text/html": [
       "<div>\n",
       "<style scoped>\n",
       "    .dataframe tbody tr th:only-of-type {\n",
       "        vertical-align: middle;\n",
       "    }\n",
       "\n",
       "    .dataframe tbody tr th {\n",
       "        vertical-align: top;\n",
       "    }\n",
       "\n",
       "    .dataframe thead th {\n",
       "        text-align: right;\n",
       "    }\n",
       "</style>\n",
       "<table border=\"1\" class=\"dataframe\">\n",
       "  <thead>\n",
       "    <tr style=\"text-align: right;\">\n",
       "      <th></th>\n",
       "      <th>Average_Daily_Returns</th>\n",
       "    </tr>\n",
       "    <tr>\n",
       "      <th>time</th>\n",
       "      <th></th>\n",
       "    </tr>\n",
       "  </thead>\n",
       "  <tbody>\n",
       "    <tr>\n",
       "      <th>2020-11-30</th>\n",
       "      <td>1.727363</td>\n",
       "    </tr>\n",
       "    <tr>\n",
       "      <th>2020-12-01</th>\n",
       "      <td>1.723372</td>\n",
       "    </tr>\n",
       "    <tr>\n",
       "      <th>2020-12-02</th>\n",
       "      <td>1.717084</td>\n",
       "    </tr>\n",
       "    <tr>\n",
       "      <th>2020-12-03</th>\n",
       "      <td>1.728330</td>\n",
       "    </tr>\n",
       "    <tr>\n",
       "      <th>2020-12-04</th>\n",
       "      <td>1.737438</td>\n",
       "    </tr>\n",
       "  </tbody>\n",
       "</table>\n",
       "</div>"
      ],
      "text/plain": [
       "            Average_Daily_Returns\n",
       "time                             \n",
       "2020-11-30               1.727363\n",
       "2020-12-01               1.723372\n",
       "2020-12-02               1.717084\n",
       "2020-12-03               1.728330\n",
       "2020-12-04               1.737438"
      ]
     },
     "metadata": {},
     "output_type": "display_data"
    }
   ],
   "source": [
    "# Use the average daily returns provided by the etf_portfolio_returns DataFrame \n",
    "# to calculate the cumulative returns\n",
    "etf_cumulative_returns = etf_portfolio_returns.cumsum()\n",
    "\n",
    "# Display the final cumulative return value\n",
    "display(etf_cumulative_returns.tail())"
   ]
  },
  {
   "cell_type": "markdown",
   "metadata": {},
   "source": [
    "### Step 5: Using hvPlot, create an interactive line plot that visualizes the cumulative return values of the ETF portfolio. Reflect the “time” column of the DataFrame on the x-axis. Make sure that you professionally style and format your visualization to enhance its readability."
   ]
  },
  {
   "cell_type": "code",
   "execution_count": 53,
   "metadata": {},
   "outputs": [
    {
     "data": {},
     "metadata": {},
     "output_type": "display_data"
    },
    {
     "data": {
      "application/vnd.holoviews_exec.v0+json": "",
      "text/html": [
       "<div id='3378'>\n",
       "  <div class=\"bk-root\" id=\"c518f29e-c611-40f3-9bf3-d14983e89a02\" data-root-id=\"3378\"></div>\n",
       "</div>\n",
       "<script type=\"application/javascript\">(function(root) {\n",
       "  function embed_document(root) {\n",
       "    var docs_json = {\"fcf1d6ba-06cb-4d37-afe7-15788542d0a7\":{\"defs\":[{\"extends\":null,\"module\":null,\"name\":\"ReactiveHTML1\",\"overrides\":[],\"properties\":[]},{\"extends\":null,\"module\":null,\"name\":\"FlexBox1\",\"overrides\":[],\"properties\":[{\"default\":\"flex-start\",\"kind\":null,\"name\":\"align_content\"},{\"default\":\"flex-start\",\"kind\":null,\"name\":\"align_items\"},{\"default\":\"row\",\"kind\":null,\"name\":\"flex_direction\"},{\"default\":\"wrap\",\"kind\":null,\"name\":\"flex_wrap\"},{\"default\":\"flex-start\",\"kind\":null,\"name\":\"justify_content\"}]},{\"extends\":null,\"module\":null,\"name\":\"GridStack1\",\"overrides\":[],\"properties\":[{\"default\":\"warn\",\"kind\":null,\"name\":\"mode\"},{\"default\":null,\"kind\":null,\"name\":\"ncols\"},{\"default\":null,\"kind\":null,\"name\":\"nrows\"},{\"default\":true,\"kind\":null,\"name\":\"allow_resize\"},{\"default\":true,\"kind\":null,\"name\":\"allow_drag\"},{\"default\":[],\"kind\":null,\"name\":\"state\"}]},{\"extends\":null,\"module\":null,\"name\":\"click1\",\"overrides\":[],\"properties\":[{\"default\":\"\",\"kind\":null,\"name\":\"terminal_output\"},{\"default\":\"\",\"kind\":null,\"name\":\"debug_name\"},{\"default\":0,\"kind\":null,\"name\":\"clears\"}]},{\"extends\":null,\"module\":null,\"name\":\"NotificationAreaBase1\",\"overrides\":[],\"properties\":[{\"default\":\"bottom-right\",\"kind\":null,\"name\":\"position\"},{\"default\":0,\"kind\":null,\"name\":\"_clear\"}]},{\"extends\":null,\"module\":null,\"name\":\"NotificationArea1\",\"overrides\":[],\"properties\":[{\"default\":[],\"kind\":null,\"name\":\"notifications\"},{\"default\":\"bottom-right\",\"kind\":null,\"name\":\"position\"},{\"default\":0,\"kind\":null,\"name\":\"_clear\"},{\"default\":[{\"background\":\"#ffc107\",\"icon\":{\"className\":\"fas fa-exclamation-triangle\",\"color\":\"white\",\"tagName\":\"i\"},\"type\":\"warning\"},{\"background\":\"#007bff\",\"icon\":{\"className\":\"fas fa-info-circle\",\"color\":\"white\",\"tagName\":\"i\"},\"type\":\"info\"}],\"kind\":null,\"name\":\"types\"}]},{\"extends\":null,\"module\":null,\"name\":\"Notification\",\"overrides\":[],\"properties\":[{\"default\":null,\"kind\":null,\"name\":\"background\"},{\"default\":3000,\"kind\":null,\"name\":\"duration\"},{\"default\":null,\"kind\":null,\"name\":\"icon\"},{\"default\":\"\",\"kind\":null,\"name\":\"message\"},{\"default\":null,\"kind\":null,\"name\":\"notification_type\"},{\"default\":false,\"kind\":null,\"name\":\"_destroyed\"}]},{\"extends\":null,\"module\":null,\"name\":\"TemplateActions1\",\"overrides\":[],\"properties\":[{\"default\":0,\"kind\":null,\"name\":\"open_modal\"},{\"default\":0,\"kind\":null,\"name\":\"close_modal\"}]},{\"extends\":null,\"module\":null,\"name\":\"MaterialTemplateActions1\",\"overrides\":[],\"properties\":[{\"default\":0,\"kind\":null,\"name\":\"open_modal\"},{\"default\":0,\"kind\":null,\"name\":\"close_modal\"}]}],\"roots\":{\"references\":[{\"attributes\":{},\"id\":\"3427\",\"type\":\"AllLabels\"},{\"attributes\":{},\"id\":\"3388\",\"type\":\"LinearScale\"},{\"attributes\":{\"overlay\":{\"id\":\"3405\"}},\"id\":\"3403\",\"type\":\"BoxZoomTool\"},{\"attributes\":{\"coordinates\":null,\"group\":null,\"text\":\"ETF Portfolio Cumulative Returns\",\"text_color\":\"black\",\"text_font_size\":\"12pt\"},\"id\":\"3384\",\"type\":\"Title\"},{\"attributes\":{},\"id\":\"3414\",\"type\":\"Selection\"},{\"attributes\":{\"mantissas\":[1,2,5],\"max_interval\":500.0,\"num_minor_ticks\":0},\"id\":\"3438\",\"type\":\"AdaptiveTicker\"},{\"attributes\":{},\"id\":\"3404\",\"type\":\"ResetTool\"},{\"attributes\":{\"axis_label\":\"Date\",\"coordinates\":null,\"formatter\":{\"id\":\"3423\"},\"group\":null,\"major_label_policy\":{\"id\":\"3424\"},\"ticker\":{\"id\":\"3393\"}},\"id\":\"3392\",\"type\":\"DatetimeAxis\"},{\"attributes\":{},\"id\":\"3397\",\"type\":\"BasicTicker\"},{\"attributes\":{},\"id\":\"3390\",\"type\":\"LinearScale\"},{\"attributes\":{},\"id\":\"3435\",\"type\":\"UnionRenderers\"},{\"attributes\":{\"bottom_units\":\"screen\",\"coordinates\":null,\"fill_alpha\":0.5,\"fill_color\":\"lightgrey\",\"group\":null,\"left_units\":\"screen\",\"level\":\"overlay\",\"line_alpha\":1.0,\"line_color\":\"black\",\"line_dash\":[4,4],\"line_width\":2,\"right_units\":\"screen\",\"syncable\":false,\"top_units\":\"screen\"},\"id\":\"3405\",\"type\":\"BoxAnnotation\"},{\"attributes\":{\"line_color\":\"#30a2da\",\"line_width\":2,\"x\":{\"field\":\"time\"},\"y\":{\"field\":\"Average_Daily_Returns\"}},\"id\":\"3421\",\"type\":\"Line\"},{\"attributes\":{\"callback\":null,\"formatters\":{\"@{time}\":\"datetime\"},\"renderers\":[{\"id\":\"3419\"}],\"tags\":[\"hv_created\"],\"tooltips\":[[\"time\",\"@{time}{%F %T}\"],[\"Average_Daily_Returns\",\"@{Average_Daily_Returns}\"]]},\"id\":\"3382\",\"type\":\"HoverTool\"},{\"attributes\":{\"margin\":[5,5,5,5],\"name\":\"HSpacer03057\",\"sizing_mode\":\"stretch_width\"},\"id\":\"3450\",\"type\":\"Spacer\"},{\"attributes\":{\"num_minor_ticks\":5,\"tickers\":[{\"id\":\"3438\"},{\"id\":\"3439\"},{\"id\":\"3440\"},{\"id\":\"3441\"},{\"id\":\"3442\"},{\"id\":\"3443\"},{\"id\":\"3444\"},{\"id\":\"3445\"},{\"id\":\"3446\"},{\"id\":\"3447\"},{\"id\":\"3448\"},{\"id\":\"3449\"}]},\"id\":\"3393\",\"type\":\"DatetimeTicker\"},{\"attributes\":{\"days\":[1,2,3,4,5,6,7,8,9,10,11,12,13,14,15,16,17,18,19,20,21,22,23,24,25,26,27,28,29,30,31]},\"id\":\"3441\",\"type\":\"DaysTicker\"},{\"attributes\":{\"axis\":{\"id\":\"3392\"},\"coordinates\":null,\"grid_line_color\":null,\"group\":null,\"ticker\":null},\"id\":\"3395\",\"type\":\"Grid\"},{\"attributes\":{\"days\":[1,4,7,10,13,16,19,22,25,28]},\"id\":\"3442\",\"type\":\"DaysTicker\"},{\"attributes\":{\"end\":1607040000000.0,\"reset_end\":1607040000000.0,\"reset_start\":1481846400000.0,\"start\":1481846400000.0,\"tags\":[[[\"time\",\"time\",null]]]},\"id\":\"3380\",\"type\":\"Range1d\"},{\"attributes\":{\"axis\":{\"id\":\"3396\"},\"coordinates\":null,\"dimension\":1,\"grid_line_color\":null,\"group\":null,\"ticker\":null},\"id\":\"3399\",\"type\":\"Grid\"},{\"attributes\":{\"days\":[1,8,15,22]},\"id\":\"3443\",\"type\":\"DaysTicker\"},{\"attributes\":{\"axis_label\":\"Returns (%)\",\"coordinates\":null,\"formatter\":{\"id\":\"3426\"},\"group\":null,\"major_label_policy\":{\"id\":\"3427\"},\"ticker\":{\"id\":\"3397\"}},\"id\":\"3396\",\"type\":\"LinearAxis\"},{\"attributes\":{\"base\":60,\"mantissas\":[1,2,5,10,15,20,30],\"max_interval\":1800000.0,\"min_interval\":1000.0,\"num_minor_ticks\":0},\"id\":\"3439\",\"type\":\"AdaptiveTicker\"},{\"attributes\":{\"data\":{\"Average_Daily_Returns\":{\"__ndarray__\":\"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\",\"dtype\":\"float64\",\"order\":\"little\",\"shape\":[999]},\"time\":{\"__ndarray__\":\"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\",\"dtype\":\"float64\",\"order\":\"little\",\"shape\":[999]}},\"selected\":{\"id\":\"3414\"},\"selection_policy\":{\"id\":\"3435\"}},\"id\":\"3413\",\"type\":\"ColumnDataSource\"},{\"attributes\":{\"days\":[1,15]},\"id\":\"3444\",\"type\":\"DaysTicker\"},{\"attributes\":{\"line_color\":\"#30a2da\",\"line_width\":2,\"x\":{\"field\":\"time\"},\"y\":{\"field\":\"Average_Daily_Returns\"}},\"id\":\"3416\",\"type\":\"Line\"},{\"attributes\":{\"base\":24,\"mantissas\":[1,2,4,6,8,12],\"max_interval\":43200000.0,\"min_interval\":3600000.0,\"num_minor_ticks\":0},\"id\":\"3440\",\"type\":\"AdaptiveTicker\"},{\"attributes\":{\"children\":[{\"id\":\"3379\"},{\"id\":\"3383\"},{\"id\":\"3450\"}],\"margin\":[0,0,0,0],\"name\":\"Row03052\",\"tags\":[\"embedded\"]},\"id\":\"3378\",\"type\":\"Row\"},{\"attributes\":{},\"id\":\"3423\",\"type\":\"DatetimeTickFormatter\"},{\"attributes\":{\"months\":[0,1,2,3,4,5,6,7,8,9,10,11]},\"id\":\"3445\",\"type\":\"MonthsTicker\"},{\"attributes\":{\"end\":1.9289267459167705,\"reset_end\":1.9289267459167705,\"reset_start\":-0.20020641956293847,\"start\":-0.20020641956293847,\"tags\":[[[\"Average_Daily_Returns\",\"Average_Daily_Returns\",null]]]},\"id\":\"3381\",\"type\":\"Range1d\"},{\"attributes\":{\"line_alpha\":0.2,\"line_color\":\"#30a2da\",\"line_width\":2,\"x\":{\"field\":\"time\"},\"y\":{\"field\":\"Average_Daily_Returns\"}},\"id\":\"3418\",\"type\":\"Line\"},{\"attributes\":{\"months\":[0,2,4,6,8,10]},\"id\":\"3446\",\"type\":\"MonthsTicker\"},{\"attributes\":{\"coordinates\":null,\"data_source\":{\"id\":\"3413\"},\"glyph\":{\"id\":\"3416\"},\"group\":null,\"hover_glyph\":null,\"muted_glyph\":{\"id\":\"3418\"},\"nonselection_glyph\":{\"id\":\"3417\"},\"selection_glyph\":{\"id\":\"3421\"},\"view\":{\"id\":\"3420\"}},\"id\":\"3419\",\"type\":\"GlyphRenderer\"},{\"attributes\":{\"margin\":[5,5,5,5],\"name\":\"HSpacer03056\",\"sizing_mode\":\"stretch_width\"},\"id\":\"3379\",\"type\":\"Spacer\"},{\"attributes\":{\"tools\":[{\"id\":\"3382\"},{\"id\":\"3400\"},{\"id\":\"3401\"},{\"id\":\"3402\"},{\"id\":\"3403\"},{\"id\":\"3404\"}]},\"id\":\"3406\",\"type\":\"Toolbar\"},{\"attributes\":{},\"id\":\"3426\",\"type\":\"BasicTickFormatter\"},{\"attributes\":{\"months\":[0,4,8]},\"id\":\"3447\",\"type\":\"MonthsTicker\"},{\"attributes\":{},\"id\":\"3424\",\"type\":\"AllLabels\"},{\"attributes\":{\"source\":{\"id\":\"3413\"}},\"id\":\"3420\",\"type\":\"CDSView\"},{\"attributes\":{},\"id\":\"3400\",\"type\":\"SaveTool\"},{\"attributes\":{\"months\":[0,6]},\"id\":\"3448\",\"type\":\"MonthsTicker\"},{\"attributes\":{\"below\":[{\"id\":\"3392\"}],\"center\":[{\"id\":\"3395\"},{\"id\":\"3399\"}],\"frame_height\":500,\"frame_width\":1000,\"height\":null,\"left\":[{\"id\":\"3396\"}],\"margin\":[5,5,5,5],\"min_border_bottom\":10,\"min_border_left\":10,\"min_border_right\":10,\"min_border_top\":10,\"renderers\":[{\"id\":\"3419\"}],\"sizing_mode\":\"fixed\",\"title\":{\"id\":\"3384\"},\"toolbar\":{\"id\":\"3406\"},\"width\":null,\"x_range\":{\"id\":\"3380\"},\"x_scale\":{\"id\":\"3388\"},\"y_range\":{\"id\":\"3381\"},\"y_scale\":{\"id\":\"3390\"}},\"id\":\"3383\",\"subtype\":\"Figure\",\"type\":\"Plot\"},{\"attributes\":{},\"id\":\"3401\",\"type\":\"PanTool\"},{\"attributes\":{},\"id\":\"3449\",\"type\":\"YearsTicker\"},{\"attributes\":{},\"id\":\"3402\",\"type\":\"WheelZoomTool\"},{\"attributes\":{\"line_alpha\":0.1,\"line_color\":\"#30a2da\",\"line_width\":2,\"x\":{\"field\":\"time\"},\"y\":{\"field\":\"Average_Daily_Returns\"}},\"id\":\"3417\",\"type\":\"Line\"}],\"root_ids\":[\"3378\"]},\"title\":\"Bokeh Application\",\"version\":\"2.4.3\"}};\n",
       "    var render_items = [{\"docid\":\"fcf1d6ba-06cb-4d37-afe7-15788542d0a7\",\"root_ids\":[\"3378\"],\"roots\":{\"3378\":\"c518f29e-c611-40f3-9bf3-d14983e89a02\"}}];\n",
       "    root.Bokeh.embed.embed_items_notebook(docs_json, render_items);\n",
       "  }\n",
       "  if (root.Bokeh !== undefined && root.Bokeh.Panel !== undefined) {\n",
       "    embed_document(root);\n",
       "  } else {\n",
       "    var attempts = 0;\n",
       "    var timer = setInterval(function(root) {\n",
       "      if (root.Bokeh !== undefined && root.Bokeh.Panel !== undefined) {\n",
       "        clearInterval(timer);\n",
       "        embed_document(root);\n",
       "      } else if (document.readyState == \"complete\") {\n",
       "        attempts++;\n",
       "        if (attempts > 200) {\n",
       "          clearInterval(timer);\n",
       "          console.log(\"Bokeh: ERROR: Unable to run BokehJS code because BokehJS library is missing\");\n",
       "        }\n",
       "      }\n",
       "    }, 25, root)\n",
       "  }\n",
       "})(window);</script>"
      ],
      "text/plain": [
       ":Curve   [time]   (Average_Daily_Returns)"
      ]
     },
     "execution_count": 53,
     "metadata": {
      "application/vnd.holoviews_exec.v0+json": {
       "id": "3378"
      }
     },
     "output_type": "execute_result"
    }
   ],
   "source": [
    "# Using hvplot, create an interactive line plot that visualizes the ETF portfolios cumulative return values.\n",
    "etf_cumulative_returns.hvplot.line(\n",
    "    title = \"ETF Portfolio Cumulative Returns\",\n",
    "    x = \"time\",\n",
    "    xlabel = \"Date\", \n",
    "    ylabel = \"Returns (%)\",\n",
    ").opts(\n",
    "    frame_width = 1000,\n",
    "    frame_height = 500\n",
    ")"
   ]
  },
  {
   "cell_type": "code",
   "execution_count": null,
   "metadata": {},
   "outputs": [],
   "source": []
  }
 ],
 "metadata": {
  "kernelspec": {
   "display_name": "dev",
   "language": "python",
   "name": "dev"
  },
  "language_info": {
   "codemirror_mode": {
    "name": "ipython",
    "version": 3
   },
   "file_extension": ".py",
   "mimetype": "text/x-python",
   "name": "python",
   "nbconvert_exporter": "python",
   "pygments_lexer": "ipython3",
   "version": "3.7.13"
  },
  "vscode": {
   "interpreter": {
    "hash": "aee8b7b246df8f9039afb4144a1f6fd8d2ca17a180786b69acc140d282b71a49"
   }
  }
 },
 "nbformat": 4,
 "nbformat_minor": 4
}
